{
 "cells": [
  {
   "cell_type": "markdown",
   "metadata": {},
   "source": [
    "### GO Term Analysis"
   ]
  },
  {
   "cell_type": "code",
   "execution_count": null,
   "metadata": {},
   "outputs": [],
   "source": [
    "# BiocManager::install(c(\"topGO\", \"KEGGREST\", \"org.At.tair.db\", \"Rgraphviz\",\"edgeR\"))\n",
    "# BiocManager::install(\"org.Hs.eg.db\")\n",
    "library(edgeR)\n",
    "library(topGO)\n",
    "library(KEGGREST)\n",
    "library(Seurat)\n",
    "library(magrittr)\n",
    "library(dplyr)\n",
    "library(Matrix)\n",
    "library(xtable)\n",
    "library(tidyr)\n",
    "library(ggplot2)\n",
    "library(org.Hs.eg.db)\n",
    "library(ComplexHeatmap)"
   ]
  },
  {
   "cell_type": "code",
   "execution_count": null,
   "metadata": {},
   "outputs": [],
   "source": [
    "SO <- readRDS('Scaled_merged_data.rds')"
   ]
  },
  {
   "cell_type": "code",
   "execution_count": null,
   "metadata": {},
   "outputs": [],
   "source": [
    "#Reads in raw csv to get a list of all genes\n",
    "ts5 <- read.csv('aaq0681_TableS5.csv') #Healthy\n",
    "count_table <- ts5[, !names(ts5) %in% \n",
    "                            c('cell_id','ident', 'orig.ident',\n",
    "                              'tSNE_1', 'tSNE_2', 'nGene')]\n",
    "allGenes <- colnames(count_table) #NEED THIS!"
   ]
  },
  {
   "cell_type": "code",
   "execution_count": null,
   "metadata": {},
   "outputs": [],
   "source": [
    "#Collapses the time point replicates into one per time\n",
    "timepoints <- c('CT','CT','CT','CT','18dpa','18dpa','25dpa','25dpa','38dpa','38dpa')\n",
    "names(timepoints) <- levels(SO)\n",
    "SO <- RenameIdents(SO, timepoints)\n",
    "SO[[\"time.points\"]] <- Idents(object = SO)"
   ]
  },
  {
   "cell_type": "code",
   "execution_count": null,
   "metadata": {},
   "outputs": [],
   "source": [
    "#Finds top DE genes \n",
    "#Documentation: https://rpubs.com/kshekhar/349874\n",
    "SO.markers <- FindAllMarkers(object = SO, only.pos = TRUE, min.pct = 0.25, thresh.use = 0.25)\n",
    "SO.markers %>% group_by(cluster) %>% top_n(2, avg_log2FC)"
   ]
  },
  {
   "cell_type": "code",
   "execution_count": null,
   "metadata": {},
   "outputs": [],
   "source": [
    "top10 <- SO.markers %>% group_by(cluster) %>% top_n(10, avg_log2FC)\n",
    "DoHeatmap(object = SO, features = top10$gene, label = TRUE, size=2, #remove.key = FALSE,\n",
    "          ) + theme(text = element_text(size=4), axis.text.y = element_text(size=4))"
   ]
  },
  {
   "cell_type": "code",
   "execution_count": null,
   "metadata": {},
   "outputs": [],
   "source": [
    "# Documentation: https://github.com/SingleCellTranscriptomics/2018_scWorkshop\n",
    "topGOterms = function( fg.genes = NULL,\n",
    "                       bg.genes = NULL,\n",
    "                       organism = \"Mouse\", \n",
    "                       ontology.use = \"BP\",\n",
    "                       stats.use = \"fisher\",\n",
    "                       algorithm.use = \"weight01\",\n",
    "                       topnodes.print=20,\n",
    "                       num.char=100){\n",
    "  \n",
    "  if (is.null(fg.genes) | is.null(bg.genes)){\n",
    "    stop(\"Error : Both gene lists are empty\")\n",
    "  }\n",
    "  \n",
    "  require(topGO)\n",
    "  if (organism == \"Mouse\"){\n",
    "    mapping.use = \"org.Mm.eg.db\"\n",
    "    library(org.Mm.eg.db)\n",
    "  } else if (organism == \"Human\"){\n",
    "    mapping.use = \"org.Hs.eg.db\"\n",
    "    library(org.Hs.eg.db)\n",
    "  } else {\n",
    "    stop(\"Error : Organisms other than mouse not supported currently\")\n",
    "  }\n",
    "  \n",
    "  n = length(bg.genes)\n",
    "  geneList = integer(n)\n",
    "  names(geneList) = bg.genes\n",
    "  geneList[intersect(names(geneList), fg.genes)]=1\n",
    "  print(paste0(\"Total \", length(geneList), \" genes. \", sum(geneList), \" genes in the foreground\"))\n",
    "  geneList = factor(geneList)\n",
    "  \n",
    "  if (ontology.use %in% c(\"BP\", \"CC\", \"MF\")){\n",
    "    print(paste0(\"Using Ontology : \", ontology.use))\n",
    "  } else {\n",
    "    stop(\"Error: Ontology not available. Should be one of BP, CC or MF\")\n",
    "  }\n",
    "  # Make GO object\n",
    "  GOdata <- new(\"topGOdata\",\n",
    "                description = \"GOanalysis\",\n",
    "                ontology = ontology.use,\n",
    "                allGenes = geneList,\n",
    "                annot = annFUN.org,\n",
    "                mapping = mapping.use,\n",
    "                ID = \"SYMBOL\",\n",
    "                nodeSize = 10)\n",
    "  print(paste0(\"Using the \", stats.use, \" statistic with the \", algorithm.use, \" algorithm\"))\n",
    "  res.result <- runTest(GOdata, statistic = stats.use, algorithm = algorithm.use)\n",
    "  to.return = list()\n",
    "  to.return$GOdata = GOdata\n",
    "  to.return$res.result <- res.result\n",
    "  to.return$res.table <- GenTable(GOdata, pval = res.result, topNodes = topnodes.print, numChar = num.char)\n",
    "  return(to.return)\n",
    "}"
   ]
  },
  {
   "cell_type": "code",
   "execution_count": null,
   "metadata": {},
   "outputs": [],
   "source": [
    "#Creates list of diff expressed genes by their pvalue\n",
    "# geneList <- rep(0,length(allGenes))\n",
    "# names(geneList) <- allGenes\n",
    "# geneList[SO.markers$gene] <- SO.markers$p_val\n",
    "# geneList\n",
    "\n",
    "# SO.time.marker.gene <- unique(SO.markers$gene) # Takes all the unique cell type specific genes\n",
    "\n",
    "# myGOdata <- new(\"topGOdata\",\n",
    "#                 description = 'GOanalysis',\n",
    "#                 ontology = \"BP\",\n",
    "#                 allGenes = geneList,\n",
    "#                 geneSelectionFun = SO.time.marker.gene, # Selects for significant genes\n",
    "#                 annot = annFUN.org,\n",
    "#                 mapping = \"org.Hs.eg.db\",\n",
    "#                 ID = \"SYMBOL\",\n",
    "#                nodeSize=10)"
   ]
  },
  {
   "cell_type": "code",
   "execution_count": null,
   "metadata": {},
   "outputs": [],
   "source": [
    "#Performs GO Enrichment on the entire dataset\n",
    "SO.time.marker.gene <- unique(SO.markers$gene) # Takes all the unique cell type specific genes\n",
    "GOterms = topGOterms(fg.genes = SO.time.marker.gene, bg.genes = allGenes, organism = \"Human\",\n",
    "                     topnodes.print=20)"
   ]
  },
  {
   "cell_type": "code",
   "execution_count": null,
   "metadata": {},
   "outputs": [],
   "source": [
    "GOterms$res.table"
   ]
  },
  {
   "cell_type": "code",
   "execution_count": null,
   "metadata": {},
   "outputs": [],
   "source": [
    "#Performs GO on each groupings\n",
    "clust <- levels(SO.markers$cluster) #Time points list\n",
    "combined.table <- list() #Stores the table for results\n",
    "\n",
    "for (i in clust) {\n",
    "    SO.markers.clust <- SO.markers[which(SO.markers$cluster == i),]\n",
    "    GOterms = topGOterms(fg.genes = SO.markers.clust$gene, bg.genes = allGenes, organism = \"Human\",\n",
    "                         topnodes.print=100)\n",
    "    GOterms$res.table$time <- i #Adds column to delineate time point for each result\n",
    "    combined.table <- rbind(combined.table, GOterms$res.table) #Combines table\n",
    "}\n",
    "head(combined.table)"
   ]
  },
  {
   "cell_type": "code",
   "execution_count": null,
   "metadata": {},
   "outputs": [],
   "source": [
    "combined.table$pval <- as.numeric(combined.table$pval) #Converts pval to numerics\n",
    "top20 <- combined.table %>% group_by(time) %>% top_n(-20, pval) #Negative bc want lowest pval\n",
    "top20"
   ]
  },
  {
   "cell_type": "code",
   "execution_count": null,
   "metadata": {},
   "outputs": [],
   "source": [
    "#Creates a matrix of pvals for the top terms\n",
    "GOmatrix <- pivot_wider(combined.table[c('Term','pval','time')], names_from = time, \n",
    "                        values_from = pval,\n",
    "                        values_fill = 1,)\n",
    "GOterms <- GOmatrix$Term\n",
    "GOmatrix <- data.matrix(GOmatrix[,-1])\n",
    "rownames(GOmatrix) <- GOterms\n",
    "\n",
    "#Scales the pvals by log10 for easier visualization\n",
    "GOmatrix <- -log(GOmatrix)"
   ]
  },
  {
   "cell_type": "code",
   "execution_count": null,
   "metadata": {},
   "outputs": [],
   "source": [
    "GOmatrix <- GOmatrix[unique(top20$Term),]\n"
   ]
  },
  {
   "cell_type": "code",
   "execution_count": null,
   "metadata": {},
   "outputs": [],
   "source": [
    "# options(repr.plot.width=14, repr.plot.height=10)\n",
    "\n",
    "GOheatmap <-Heatmap(GOmatrix,\n",
    "        name = 'Log(pval)',\n",
    "        col = c('white','red'),\n",
    "        rect_gp = gpar(col = 'grey85'),\n",
    "        cluster_rows = TRUE,\n",
    "        \n",
    "        #Row features\n",
    "        show_row_dend = TRUE,\n",
    "        row_title = 'Top GO Terms',\n",
    "        row_title_side = 'left',\n",
    "        row_title_gp = gpar(fontsize = 11, fontface = 'bold'),\n",
    "        row_title_rot = 90,\n",
    "        show_row_names = TRUE,\n",
    "        row_names_gp = gpar(fontsize = 8),\n",
    "        row_names_side = 'right',\n",
    "        row_dend_width = unit(20, 'mm'),\n",
    "        \n",
    "        #Col features\n",
    "        cluster_columns = TRUE,\n",
    "        show_column_dend = TRUE,\n",
    "        column_title = 'Time points',\n",
    "        column_title_side = 'top',\n",
    "        column_title_gp = gpar(fontsize = 11, fontface = 'bold'),\n",
    "        column_title_rot = 0,\n",
    "        show_column_names = TRUE,\n",
    "        column_names_gp = gpar(fontsize = 6),\n",
    "        column_dend_height = unit(5, 'mm'),\n",
    "\n",
    "        #Legend + dimensions\n",
    "        heatmap_legend_param = list(direction = \"horizontal\"),\n",
    "        width = unit(3,'cm'),\n",
    "        height = unit(18,'cm'),\n",
    "       )\n",
    "\n",
    "#Save file\n",
    "jpeg(file=\"GOTerm.jpg\", units='cm',\n",
    "    width=28,\n",
    "    height=28,\n",
    "    res=1000)\n",
    "\n",
    "draw(GOheatmap,\n",
    "  heatmap_legend_side = 'bottom',\n",
    "    merge_legend=TRUE)\n",
    "\n",
    "dev.off()"
   ]
  },
  {
   "cell_type": "code",
   "execution_count": null,
   "metadata": {},
   "outputs": [],
   "source": [
    "# Copies data to GBucket\n",
    "bucket <- Sys.getenv('WORKSPACE_BUCKET')\n",
    "save.path = \"/\"\n",
    "command = paste0(\"gsutil cp GOTerm.jpg \", bucket, save.path)\n",
    "system(command, intern=TRUE)"
   ]
  },
  {
   "cell_type": "code",
   "execution_count": null,
   "metadata": {},
   "outputs": [],
   "source": [
    "cluster.table$pval <- as.numeric(cluster.table$pval) #Converts pval to numerics\n",
    "top10 <- cluster.table %>% group_by(clust) %>% top_n(-10, pval) #Negative bc want lowest pval\n",
    "top10"
   ]
  },
  {
   "cell_type": "code",
   "execution_count": null,
   "metadata": {},
   "outputs": [],
   "source": []
  }
 ],
 "metadata": {
  "kernelspec": {
   "display_name": "R",
   "language": "R",
   "name": "ir"
  },
  "language_info": {
   "codemirror_mode": "r",
   "file_extension": ".r",
   "mimetype": "text/x-r-source",
   "name": "R",
   "pygments_lexer": "r",
   "version": "4.0.3"
  },
  "toc": {
   "base_numbering": 1,
   "nav_menu": {},
   "number_sections": true,
   "sideBar": true,
   "skip_h1_title": false,
   "title_cell": "Table of Contents",
   "title_sidebar": "Contents",
   "toc_cell": false,
   "toc_position": {},
   "toc_section_display": true,
   "toc_window_display": false
  }
 },
 "nbformat": 4,
 "nbformat_minor": 2
}
