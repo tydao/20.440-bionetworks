{
 "cells": [
  {
   "cell_type": "markdown",
   "metadata": {},
   "source": [
    "### scRNA-seq Data Pre-processing\n",
    "\n",
    "Processes count matrix from Gerber T, Murawala P, Knapp D, et al. Science. 2018;362(6413).  "
   ]
  },
  {
   "cell_type": "code",
   "execution_count": null,
   "metadata": {},
   "outputs": [],
   "source": [
    "# Loads in the Data----\n",
    "library(Seurat);\n",
    "library(magrittr);\n",
    "library(dplyr);\n",
    "library(ggplot2);\n",
    "library(SeuratDisk);"
   ]
  },
  {
   "cell_type": "code",
   "execution_count": null,
   "metadata": {},
   "outputs": [],
   "source": [
    "# Function to perform preprocessing on the counts table\n",
    "# Takes the raw counts and metadata dataframe and the filename of the csv\n",
    "# https://satijalab.org/seurat/articles/essential_commands.html\n",
    "preprocess_counts_table <- function(df, output_fn) {\n",
    "\n",
    "    #Creates meta data table\n",
    "    meta_data <- df[1:6]\n",
    "    colnames(meta_data) <- colnames(df)[1:6]\n",
    "    rownames(meta_data) <- meta_data$cell_id\n",
    "\n",
    "    #Creates counts table (gene x library/cell)\n",
    "    count_table <- df[, !names(df) %in% \n",
    "                                c('cell_id','ident', 'orig.ident',\n",
    "                                  'tSNE_1', 'tSNE_2', 'nGene')]\n",
    "    rownames(count_table) <- df[,1]\n",
    "    count_table <- t(count_table)\n",
    "    \n",
    "    # Creates Seurat Object and filters out cells with less than 100 genes\n",
    "    # https://scrnaseq-course.cog.sanger.ac.uk/website/seurat-chapter.html\n",
    "    SO <- CreateSeuratObject(counts = count_table, min.cells = 3, min.features  = 100)\n",
    "    SO <- NormalizeData(SO, normalization.method = \"LogNormalize\")\n",
    "    \n",
    "    # Adds in meta data\n",
    "    SO@meta.data['cell.type'] <- meta_data[colnames(SO),2]\n",
    "    SO@meta.data['time.point'] <- meta_data[colnames(SO),3]\n",
    "    SO@meta.data['tSNE_1'] <- meta_data[colnames(SO),4]\n",
    "    SO@meta.data['tSNE_2'] <- meta_data[colnames(SO),5]\n",
    "    SO@meta.data['nGene'] <- meta_data[colnames(SO),6]\n",
    "    \n",
    "    \n",
    "    # Find variable features\n",
    "    SO <- FindVariableFeatures(object = SO, mean.function = ExpMean, dispersion.function = LogVMR, nfeatures = 2000)\n",
    "\n",
    "    # Removes cell-cycle variation ----\n",
    "    # A list of cell cycle markers, from Tirosh et al, 2015, is loaded with Seurat.  We then\n",
    "    # segregate this list into markers of G2/M phase and markers of S phase\n",
    "    s.genes <- cc.genes$s.genes\n",
    "    g2m.genes <- cc.genes$g2m.genes\n",
    "\n",
    "    # Gets cell cycle score and changes the current identity\n",
    "    SO <- CellCycleScoring(SO, s.features = s.genes, g2m.features = g2m.genes, set.ident = TRUE)\n",
    "    RidgePlot(SO, features = c(\"PCNA\", \"TOP2A\", \"MCM6\", \"MKI67\"), ncol = 2)\n",
    "\n",
    "#     # \"Before\" PCA\n",
    "#     SO <- RunPCA(SO, features = c(s.genes, g2m.genes))\n",
    "#     DimPlot(SO)\n",
    "\n",
    "    # Regressed PCA\n",
    "    SO <- ScaleData(SO, vars.to.regress = c(\"S.Score\", \"G2M.Score\"), features = rownames(SO))\n",
    "    SO <- RunPCA(SO, features = c(s.genes, g2m.genes))\n",
    "    DimPlot(SO)\n",
    "\n",
    "  #Save the Obj.\n",
    "  if (!missing(output_fn)){\n",
    "    saveRDS(SO, file = sprintf(paste(output_fn,\".rds\", sep=\"\")))\n",
    "    SaveH5Seurat(SO, filename = paste(output_fn,\".h5Seurat\", sep=\"\"))\n",
    "    Convert(paste(output_fn,\".h5Seurat\", sep=\"\"), dest = \"h5ad\")\n",
    "  }\n",
    "    \n",
    "    return (SO)\n",
    "}"
   ]
  },
  {
   "cell_type": "code",
   "execution_count": null,
   "metadata": {},
   "outputs": [],
   "source": [
    "# Process table 5 (healthy samples)\n",
    "output_fn <- \"Table5_processed\"\n",
    "t5 <- read.csv(\"aaq0681_TableS5.csv\") #Read in csv\n",
    "preprocess_counts_table(t5, output_fn)"
   ]
  },
  {
   "cell_type": "code",
   "execution_count": null,
   "metadata": {},
   "outputs": [],
   "source": [
    "# Process table 9 (amputations)\n",
    "fn <- read.csv('aa10681_TableS9.csv')\n",
    "\n",
    "t9_18 <- fn[fn$orig.ident == '18dpaA' | fn$orig.ident == '18dpaB',]\n",
    "preprocess_counts_table(t9_18, \"Table9_18dpa_processed\")\n",
    "\n",
    "t9_25 <- fn[fn$orig.ident == '25dpaA' | fn$orig.ident == '25dpaB',]\n",
    "preprocess_counts_table(t9_25, \"Table9_25dpa_processed\")\n",
    "\n",
    "t9_38 <- fn[fn$orig.ident == '38dpaA' | fn$orig.ident == '38dpaB',]\n",
    "preprocess_counts_table(t9_18, \"Table9_38dpa_processed\")"
   ]
  },
  {
   "cell_type": "code",
   "execution_count": null,
   "metadata": {},
   "outputs": [],
   "source": [
    "list.files()"
   ]
  },
  {
   "cell_type": "markdown",
   "metadata": {},
   "source": [
    "### Data Visualization of each Time Point"
   ]
  },
  {
   "cell_type": "code",
   "execution_count": null,
   "metadata": {},
   "outputs": [],
   "source": [
    "#Loads in the data\n",
    "t5 <- readRDS('Table5_processed.rds')\n",
    "\n"
   ]
  },
  {
   "cell_type": "code",
   "execution_count": null,
   "metadata": {},
   "outputs": [],
   "source": [
    "# Subsets the connective tissue\n",
    "Idents(t5) <- t5@meta.data$time.point\n",
    "t5_CT <- subset(x = t5, idents = c('2kA','2kB'))\n",
    "# t5_CT <- subset(x = t5, idents = c('CTa','CTb'))\n",
    "\n",
    "\n",
    "\n",
    "# Run Clustering and Reduction\n",
    "t5_CT <- FindVariableFeatures(object = t5_CT)\n",
    "t5_CT <- FindNeighbors(t5_CT, dims = 1:10)\n",
    "t5_CT <- FindClusters(t5_CT)\n",
    "# Plot Graph\n",
    "t5_CT <- RunUMAP(t5_CT, dims = 1:10)\n",
    "DimPlot(t5_CT, reduction = \"umap\", label = FALSE, group.by = 'cell.type')\n",
    "# t5_CT <- RunTSNE(t5_CT)\n",
    "# DimPlot(t5_CT, reduction = 'tsne', group.by = 'cell.type')\n",
    "\n"
   ]
  },
  {
   "cell_type": "code",
   "execution_count": null,
   "metadata": {},
   "outputs": [],
   "source": []
  }
 ],
 "metadata": {
  "kernelspec": {
   "display_name": "R",
   "language": "R",
   "name": "ir"
  },
  "language_info": {
   "codemirror_mode": "r",
   "file_extension": ".r",
   "mimetype": "text/x-r-source",
   "name": "R",
   "pygments_lexer": "r",
   "version": "4.0.3"
  },
  "toc": {
   "base_numbering": 1,
   "nav_menu": {},
   "number_sections": true,
   "sideBar": true,
   "skip_h1_title": false,
   "title_cell": "Table of Contents",
   "title_sidebar": "Contents",
   "toc_cell": false,
   "toc_position": {},
   "toc_section_display": true,
   "toc_window_display": false
  }
 },
 "nbformat": 4,
 "nbformat_minor": 2
}
