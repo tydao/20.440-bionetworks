{
 "cells": [
  {
   "cell_type": "code",
   "execution_count": null,
   "metadata": {},
   "outputs": [],
   "source": []
  },
  {
   "cell_type": "code",
   "execution_count": null,
   "metadata": {},
   "outputs": [],
   "source": [
    "#Import necessary packages\n",
    "import os\n",
    "import pandas as pd\n",
    "import numpy as np"
   ]
  },
  {
   "cell_type": "code",
   "execution_count": null,
   "metadata": {},
   "outputs": [],
   "source": [
    "#Changes to Data directory\n",
    "cwd = os.getcwd()\n",
    "if 'Data' not in cwd:\n",
    "    os.chdir('../Data')\n",
    "    cwd = os.getcwd()\n",
    "print(cwd)"
   ]
  },
  {
   "cell_type": "code",
   "execution_count": null,
   "metadata": {},
   "outputs": [],
   "source": [
    "import seaborn as sns\n",
    "from matplotlib import pyplot as plt\n",
    "\n",
    "def plot_cluster_and_labels(df, lab, title, xlab, ylab, save_name=None, fig_size=(8,6)):\n",
    "    \"\"\"\n",
    "    Creates a scatter plot of the data passed in, and colors each\n",
    "    data point based on its label. The figure can be saved if a \n",
    "    file name is provided.\n",
    "    Arguments:\n",
    "        df - dataframe with a columns headers corresponding to lab, \n",
    "        xlab and ylab\n",
    "        lab - string, col header for datapoint labels\n",
    "        title - string, plot title\n",
    "        xlab, ylab - string, col header for datapoint coordinates\n",
    "        save_name - string, filename to save the image under\n",
    "        fig_size - tuple, plot size\n",
    "    \n",
    "    Outputs:\n",
    "        Scatter plot of data and labels and saved file\n",
    "    \"\"\"\n",
    "    #Gets unique labels and maps it to a color\n",
    "    labels = list(pd.unique(df[lab]))\n",
    "    lut = dict(zip(labels, sns.hls_palette(len(labels), l=0.5, s=0.8)))\n",
    "    \n",
    "    #Plots the scatter plot\n",
    "    fig, ax = plt.subplots(1, figsize=fig_size)\n",
    "    ax.set_xlabel(xlab)\n",
    "    ax.set_ylabel(ylab)\n",
    "    ax.set_title(title)\n",
    "    for i in range(len(labels)):\n",
    "        idx = df[lab] == labels[i]\n",
    "        ax.scatter(df.loc[idx, xlab], df.loc[idx, ylab],\n",
    "                   cmap = lut[labels[i]], alpha=1, s=3)\n",
    "    ax.legend(labels)\n",
    "    \n",
    "    #Save plot\n",
    "    if save_name is not None:\n",
    "        plt.savefig(save_name)\n",
    "    \n",
    "    return"
   ]
  },
  {
   "cell_type": "code",
   "execution_count": null,
   "metadata": {},
   "outputs": [],
   "source": [
    "df = pd.read_csv('aa10681_TableS9.csv')\n",
    "healthy = pd.read_csv('aaq0681_TableS5.csv')"
   ]
  },
  {
   "cell_type": "code",
   "execution_count": null,
   "metadata": {},
   "outputs": [],
   "source": [
    "healthy_dict = {1:'fCT1',\n",
    "               5:'fCT2',\n",
    "               0:'fCT3',\n",
    "               2:'fCT4',\n",
    "               6:'fCT5',\n",
    "               4:'Periskeletal Cells',\n",
    "               3:'Tenocytes',\n",
    "               7:'Cycling cells'}"
   ]
  },
  {
   "cell_type": "code",
   "execution_count": null,
   "metadata": {},
   "outputs": [],
   "source": [
    "plot_cluster_and_labels(healthy, 'ident', 'title', 'tSNE_1', 'tSNE_2', save_name=None, fig_size=(8,6))"
   ]
  },
  {
   "cell_type": "code",
   "execution_count": null,
   "metadata": {},
   "outputs": [],
   "source": [
    "healthy['ident'] = healthy['ident'].apply(lambda x: healthy_dict[x])\n",
    "# healthy.drop(labels='lit_cell_types', inplace=True, axis=1)\n",
    "healthy.head()\n",
    "heathy.to_csv('aaq0681_TableS5_labeled.csv', index=False)"
   ]
  },
  {
   "cell_type": "code",
   "execution_count": null,
   "metadata": {},
   "outputs": [],
   "source": [
    "plot_cluster_and_labels(healthy, 'lit_cell_types', 'title', 'tSNE_1', 'tSNE_2', save_name=None, fig_size=(8,6))"
   ]
  },
  {
   "cell_type": "code",
   "execution_count": null,
   "metadata": {},
   "outputs": [],
   "source": [
    "plot_cluster_and_labels(df, 'ident', 'title', 'tSNE_1', 'tSNE_2', save_name=None, fig_size=(8,6))"
   ]
  }
 ],
 "metadata": {
  "kernelspec": {
   "display_name": "Python 3",
   "language": "python",
   "name": "python3"
  },
  "language_info": {
   "codemirror_mode": {
    "name": "ipython",
    "version": 3
   },
   "file_extension": ".py",
   "mimetype": "text/x-python",
   "name": "python",
   "nbconvert_exporter": "python",
   "pygments_lexer": "ipython3",
   "version": "3.8.5"
  }
 },
 "nbformat": 4,
 "nbformat_minor": 4
}
