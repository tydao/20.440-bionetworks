{
 "cells": [
  {
   "cell_type": "markdown",
   "metadata": {},
   "source": [
    "### Find Oncogenes\n",
    "Uses the Cancer Gene Census (CGC) database to identify known oncogenes in the dataset.  \n",
    "Only oncogenes classified as Tier 1 (meaning that there is substantial evidence of their role in driving cancer) are considered in this analysis.  \n",
    "More information on the database:  \n",
    "https://cancer.sanger.ac.uk/census\n",
    "\n",
    "\n",
    "This paper also identified cancer genes that show differential expression in axolotl regeneration and will be manually added to the list.  \n",
    "https://www.ncbi.nlm.nih.gov/pmc/articles/PMC3591270/\n"
   ]
  },
  {
   "cell_type": "code",
   "execution_count": null,
   "metadata": {},
   "outputs": [],
   "source": [
    "#Import necessary packages\n",
    "import os\n",
    "import pandas as pd\n",
    "import numpy as np"
   ]
  },
  {
   "cell_type": "code",
   "execution_count": null,
   "metadata": {},
   "outputs": [],
   "source": [
    "#Changes to Data directory\n",
    "cwd = os.getcwd()\n",
    "if 'Data' not in cwd:\n",
    "    os.chdir('../Data')\n",
    "    cwd = os.getcwd()\n",
    "print(cwd)"
   ]
  },
  {
   "cell_type": "code",
   "execution_count": null,
   "metadata": {},
   "outputs": [],
   "source": [
    "#Read database and pulls out tier 1 oncogenes\n",
    "cgc = pd.read_csv('CancerGeneCensus.csv')\n",
    "cgc.fillna(value='', inplace=True)\n",
    "onc_idx = cgc['Role in Cancer'].str.contains('oncogene')\n",
    "cgc_df = cgc[onc_idx]\n",
    "cgc_df = cgc_df[cgc_df['Tier'] == 1]\n",
    "oncogenes = list(cgc_df['Gene Symbol'])"
   ]
  },
  {
   "cell_type": "code",
   "execution_count": null,
   "metadata": {},
   "outputs": [],
   "source": [
    "#Oncogenes identified in axolotl paper from 2013\n",
    "manual_add = ['ATF3','EGR1','ETS2','FOS','FOXO1','JUN','JUND','KLF4','KLF6','MYC','ZFP36']\n",
    "\n",
    "for mn in manual_add:\n",
    "    if mn not in oncogenes:\n",
    "        oncogenes.append(mn)\n",
    "        print(mn + ' added!')"
   ]
  },
  {
   "cell_type": "code",
   "execution_count": null,
   "metadata": {},
   "outputs": [],
   "source": [
    "#Reads the gene expression table and gets a list of genes\n",
    "df = pd.read_csv('aaq0681_TableS5.csv')\n",
    "tab_genes = list(df.columns)"
   ]
  },
  {
   "cell_type": "code",
   "execution_count": null,
   "metadata": {},
   "outputs": [],
   "source": [
    "#Iterates through the table to find oncogenes\n",
    "axo_onc = [] #Stores found oncogenes\n",
    "\n",
    "for onc in oncogenes:\n",
    "    if onc in tab_genes:\n",
    "        idx = [i for i, e in enumerate(tab_genes) if onc in e]        \n",
    "        for i in idx:\n",
    "            axo_onc.append(tab_genes[i])\n",
    "            \n",
    "axo_onc = np.unique(axo_onc)"
   ]
  },
  {
   "cell_type": "code",
   "execution_count": null,
   "metadata": {},
   "outputs": [],
   "source": [
    "#Saves the list as CSV\n",
    "file_name = 'Axolotl_oncogenes.csv'\n",
    "axo_onc_df = pd.DataFrame(axo_onc, columns=['Oncogene'])\n",
    "axo_onc_df.to_csv(file_name, encoding='utf-8', index=False)\n"
   ]
  },
  {
   "cell_type": "code",
   "execution_count": null,
   "metadata": {},
   "outputs": [],
   "source": [
    "axo_onc_df"
   ]
  },
  {
   "cell_type": "code",
   "execution_count": null,
   "metadata": {},
   "outputs": [],
   "source": [
    "axo_onc_df[]"
   ]
  },
  {
   "cell_type": "code",
   "execution_count": null,
   "metadata": {},
   "outputs": [],
   "source": [
    "import seaborn as sns\n",
    "from matplotlib import pyplot as plt\n",
    "\n",
    "def plot_cluster_and_labels(df, lab, title, xlab, ylab, save_name=None, fig_size=(8,6)):\n",
    "    \"\"\"\n",
    "    Creates a scatter plot of the data passed in, and colors each\n",
    "    data point based on its label. The figure can be saved if a \n",
    "    file name is provided.\n",
    "    Arguments:\n",
    "        df - dataframe with a columns headers corresponding to lab, \n",
    "        xlab and ylab\n",
    "        lab - string, col header for datapoint labels\n",
    "        title - string, plot title\n",
    "        xlab, ylab - string, col header for datapoint coordinates\n",
    "        save_name - string, filename to save the image under\n",
    "        fig_size - tuple, plot size\n",
    "    \n",
    "    Outputs:\n",
    "        Scatter plot of data and labels and saved file\n",
    "    \"\"\"\n",
    "    #Gets unique labels and maps it to a color\n",
    "    labels = list(pd.unique(df[lab]))\n",
    "    lut = dict(zip(labels, sns.hls_palette(len(labels), l=0.5, s=0.8)))\n",
    "    \n",
    "    #Plots the scatter plot\n",
    "    fig, ax = plt.subplots(1, figsize=fig_size)\n",
    "    ax.set_xlabel(xlab)\n",
    "    ax.set_ylabel(ylab)\n",
    "    ax.set_title(title)\n",
    "    for i in range(len(labels)):\n",
    "        idx = df[lab] == labels[i]\n",
    "        ax.scatter(df.loc[idx, xlab], df.loc[idx, ylab],\n",
    "                   cmap = lut[labels[i]], alpha=0.6, s=3)\n",
    "    ax.legend(labels)\n",
    "    \n",
    "    #Save plot\n",
    "    if save_name is not None:\n",
    "        plt.savefig(save_name)\n",
    "    \n",
    "    return"
   ]
  },
  {
   "cell_type": "code",
   "execution_count": null,
   "metadata": {},
   "outputs": [],
   "source": [
    "df = pd.read_csv('aa10681_TableS9.csv')\n",
    "healthy = pd.read_csv('aaq0681_TableS5.csv')"
   ]
  },
  {
   "cell_type": "code",
   "execution_count": null,
   "metadata": {},
   "outputs": [],
   "source": [
    "df.head()"
   ]
  },
  {
   "cell_type": "code",
   "execution_count": null,
   "metadata": {},
   "outputs": [],
   "source": [
    "plot_cluster_and_labels(healthy, 'ident', 'title', 'tSNE_1', 'tSNE_2', save_name=None, fig_size=(8,6))\n"
   ]
  },
  {
   "cell_type": "code",
   "execution_count": null,
   "metadata": {},
   "outputs": [],
   "source": [
    "df = pd.read_csv('dorothea.csv')"
   ]
  },
  {
   "cell_type": "code",
   "execution_count": null,
   "metadata": {},
   "outputs": [],
   "source": [
    "\n"
   ]
  },
  {
   "cell_type": "code",
   "execution_count": null,
   "metadata": {},
   "outputs": [],
   "source": [
    "a = list(set(healthy.columns) & set(df['target']))"
   ]
  },
  {
   "cell_type": "code",
   "execution_count": null,
   "metadata": {},
   "outputs": [],
   "source": [
    "len(a)"
   ]
  },
  {
   "cell_type": "code",
   "execution_count": null,
   "metadata": {},
   "outputs": [],
   "source": [
    "len(list(healthy.columns))"
   ]
  },
  {
   "cell_type": "code",
   "execution_count": null,
   "metadata": {},
   "outputs": [],
   "source": []
  }
 ],
 "metadata": {
  "@webio": {
   "lastCommId": null,
   "lastKernelId": null
  },
  "kernelspec": {
   "display_name": "Python 3",
   "language": "python",
   "name": "python3"
  },
  "language_info": {
   "codemirror_mode": {
    "name": "ipython",
    "version": 3
   },
   "file_extension": ".py",
   "mimetype": "text/x-python",
   "name": "python",
   "nbconvert_exporter": "python",
   "pygments_lexer": "ipython3",
   "version": "3.8.5"
  }
 },
 "nbformat": 4,
 "nbformat_minor": 4
}
